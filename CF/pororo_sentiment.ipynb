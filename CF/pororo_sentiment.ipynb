{
  "nbformat": 4,
  "nbformat_minor": 0,
  "metadata": {
    "colab": {
      "name": "pororo_sentiment.ipynb",
      "provenance": [],
      "collapsed_sections": []
    },
    "kernelspec": {
      "name": "python3",
      "display_name": "Python 3"
    }
  },
  "cells": [
    {
      "cell_type": "markdown",
      "metadata": {
        "id": "NDM94Y4gkwkg"
      },
      "source": [
        "# 환경 설정"
      ]
    },
    {
      "cell_type": "code",
      "metadata": {
        "colab": {
          "base_uri": "https://localhost:8080/"
        },
        "id": "qsUUIYdLa_UU",
        "outputId": "47a89ca3-a2b7-4b09-ea52-c2e15362758d"
      },
      "source": [
        "!git clone https://github.com/kakaobrain/pororo.git"
      ],
      "execution_count": 1,
      "outputs": [
        {
          "output_type": "stream",
          "text": [
            "Cloning into 'pororo'...\n",
            "remote: Enumerating objects: 2119, done.\u001b[K\n",
            "remote: Counting objects: 100% (29/29), done.\u001b[K\n",
            "remote: Compressing objects: 100% (25/25), done.\u001b[K\n",
            "remote: Total 2119 (delta 11), reused 11 (delta 4), pack-reused 2090\u001b[K\n",
            "Receiving objects: 100% (2119/2119), 13.09 MiB | 25.11 MiB/s, done.\n",
            "Resolving deltas: 100% (1448/1448), done.\n"
          ],
          "name": "stdout"
        }
      ]
    },
    {
      "cell_type": "code",
      "metadata": {
        "colab": {
          "base_uri": "https://localhost:8080/"
        },
        "id": "rS4uvvZYcZkF",
        "outputId": "57a9f3e9-cba2-420f-cca8-6d470bca81c5"
      },
      "source": [
        "cd pororo"
      ],
      "execution_count": 2,
      "outputs": [
        {
          "output_type": "stream",
          "text": [
            "/content/pororo\n"
          ],
          "name": "stdout"
        }
      ]
    },
    {
      "cell_type": "code",
      "metadata": {
        "colab": {
          "base_uri": "https://localhost:8080/"
        },
        "id": "oKV0qDGIccsc",
        "outputId": "74d1b872-7609-44a9-a743-4aae44de6f3d"
      },
      "source": [
        "pip install -e ."
      ],
      "execution_count": null,
      "outputs": [
        {
          "output_type": "stream",
          "text": [
            "Obtaining file:///content/pororo\n",
            "Collecting torch==1.6.0\n",
            "\u001b[?25l  Downloading https://files.pythonhosted.org/packages/5d/5e/35140615fc1f925023f489e71086a9ecc188053d263d3594237281284d82/torch-1.6.0-cp37-cp37m-manylinux1_x86_64.whl (748.8MB)\n",
            "\u001b[K     |█████████████████████████▌      | 595.7MB 1.4MB/s eta 0:01:48"
          ],
          "name": "stdout"
        }
      ]
    },
    {
      "cell_type": "markdown",
      "metadata": {
        "id": "k-tarLgF3Fjv"
      },
      "source": [
        "# 감정 분석 실행"
      ]
    },
    {
      "cell_type": "code",
      "metadata": {
        "colab": {
          "base_uri": "https://localhost:8080/"
        },
        "id": "zF4nnyvLaniZ",
        "outputId": "6a6a17b9-0d2e-47c0-dd6d-03bb742cf91c"
      },
      "source": [
        "from pororo import Pororo\n",
        "review = Pororo(task=\"review\", lang=\"ko\")"
      ],
      "execution_count": 4,
      "outputs": [
        {
          "output_type": "stream",
          "text": [
            "\n",
            "\n"
          ],
          "name": "stderr"
        }
      ]
    },
    {
      "cell_type": "code",
      "metadata": {
        "colab": {
          "base_uri": "https://localhost:8080/"
        },
        "id": "Ea1ZKrGVa6Hd",
        "outputId": "5cde4087-6f78-46fe-b69a-287c4750817d"
      },
      "source": [
        "review(\"그냥저냥 다른데랑 똑같숩니다\")"
      ],
      "execution_count": 5,
      "outputs": [
        {
          "output_type": "execute_result",
          "data": {
            "text/plain": [
              "2.96"
            ]
          },
          "metadata": {
            "tags": []
          },
          "execution_count": 5
        }
      ]
    },
    {
      "cell_type": "code",
      "metadata": {
        "colab": {
          "base_uri": "https://localhost:8080/"
        },
        "id": "CCaTyO5WdWgk",
        "outputId": "2783af16-4768-4a90-96c3-d6d73f4fd542"
      },
      "source": [
        "review(\"기분이 좋지 않습니다.\")"
      ],
      "execution_count": 6,
      "outputs": [
        {
          "output_type": "execute_result",
          "data": {
            "text/plain": [
              "1.53"
            ]
          },
          "metadata": {
            "tags": []
          },
          "execution_count": 6
        }
      ]
    },
    {
      "cell_type": "code",
      "metadata": {
        "colab": {
          "base_uri": "https://localhost:8080/",
          "height": 340
        },
        "id": "2vz0ATehclIM",
        "outputId": "b4e35717-d997-41dd-daff-762bf7c0ed1e"
      },
      "source": [
        "from matplotlib import pyplot as plt\n",
        "day = [\"월\", \"화\", \"수\", \"목\", \"금\", \"토\", \"일\"]\n",
        "score = [2.96, 1.53, 12, 10, 14, 22, 24]\n",
        "plt.plot(day, score)\n",
        "plt.show()"
      ],
      "execution_count": 7,
      "outputs": [
        {
          "output_type": "stream",
          "text": [
            "/usr/local/lib/python3.7/dist-packages/matplotlib/backends/backend_agg.py:214: RuntimeWarning: Glyph 50900 missing from current font.\n",
            "  font.set_text(s, 0.0, flags=flags)\n",
            "/usr/local/lib/python3.7/dist-packages/matplotlib/backends/backend_agg.py:183: RuntimeWarning: Glyph 50900 missing from current font.\n",
            "  font.set_text(s, 0, flags=flags)\n"
          ],
          "name": "stderr"
        },
        {
          "output_type": "display_data",
          "data": {
            "image/png": "[encoded data removed]",
            "text/plain": [
              "<Figure size 432x288 with 1 Axes>"
            ]
          },
          "metadata": {
            "tags": [],
            "needs_background": "light"
          }
        }
      ]
    },
    {
      "cell_type": "code",
      "metadata": {
        "id": "oy_DxyyJewX0",
        "colab": {
          "base_uri": "https://localhost:8080/",
          "height": 35
        },
        "outputId": "d278fb42-1ebb-4e64-821a-9889f3012deb"
      },
      "source": [
        "'''\n",
        "활용 방안\n",
        "1. 일기 감정 분석\n",
        "2. 독후감 감정 분석\n",
        "3. 영화 리뷰 감정 분석\n",
        "4. 뉴스 댓글 감정 분석\n",
        "5. 감정 분석 추가학습 최적화??\n",
        "'''"
      ],
      "execution_count": 8,
      "outputs": [
        {
          "output_type": "execute_result",
          "data": {
            "application/vnd.google.colaboratory.intrinsic+json": {
              "type": "string"
            },
            "text/plain": [
              "'\\n활용 방안\\n1. 일기 감정 분석\\n2. 독후감 감정 분석\\n3. 영화 리뷰 감정 분석\\n4. 뉴스 댓글 감정 분석\\n5. 감정 분석 추가학습 최적화??\\n'"
            ]
          },
          "metadata": {
            "tags": []
          },
          "execution_count": 8
        }
      ]
    }
  ]
}